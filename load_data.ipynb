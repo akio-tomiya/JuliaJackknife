{
 "cells": [
  {
   "cell_type": "markdown",
   "metadata": {},
   "source": [
    "# loading text data using dataframe\n",
    "\n",
    "In this note, I load data like\n",
    "\n",
    "```:mockdata.txt\n",
    "# index data\n",
    "0 0.13\n",
    "1 0.14\n",
    "2 0.17\n",
    "3 0.18\n",
    "4 0.13\n",
    "5 0.16\n",
    "6 0.15\n",
    "7 0.13\n",
    "8 0.15\n",
    "9 0.14\n",
    "```\n",
    "\n",
    "with CSV module. \n",
    "I intend to load a file as like lattice QCD physicists do."
   ]
  },
  {
   "cell_type": "code",
   "execution_count": 1,
   "metadata": {},
   "outputs": [],
   "source": [
    "using CSV"
   ]
  },
  {
   "cell_type": "code",
   "execution_count": 2,
   "metadata": {},
   "outputs": [
    {
     "data": {
      "text/plain": [
       "loadfile (generic function with 1 method)"
      ]
     },
     "execution_count": 2,
     "metadata": {},
     "output_type": "execute_result"
    }
   ],
   "source": [
    "function loadfile(filename,icol)# \n",
    "    dataframe = CSV.read(filename, delim=' ',comment=\"#\")\n",
    "    Ncol = size(dataframe,2)\n",
    "    if icol>Ncol\n",
    "        error(\"The number of column is exceeded, icol=$icol > Ncol=$Ncol\")\n",
    "        return nothing\n",
    "    end\n",
    "    data = dataframe[!,icol]\n",
    "    return Array(data)\n",
    "end"
   ]
  },
  {
   "cell_type": "code",
   "execution_count": 3,
   "metadata": {},
   "outputs": [
    {
     "data": {
      "text/plain": [
       "9-element Array{Float64,1}:\n",
       " 0.14\n",
       " 0.17\n",
       " 0.18\n",
       " 0.13\n",
       " 0.16\n",
       " 0.15\n",
       " 0.13\n",
       " 0.15\n",
       " 0.14"
      ]
     },
     "execution_count": 3,
     "metadata": {},
     "output_type": "execute_result"
    }
   ],
   "source": [
    "filename = \"mockdata.txt\" # load file name\n",
    "icol = 2 # the second column from left is loaded\n",
    "#\n",
    "data = loadfile(filename, icol)\n",
    "data"
   ]
  },
  {
   "cell_type": "code",
   "execution_count": null,
   "metadata": {},
   "outputs": [],
   "source": []
  }
 ],
 "metadata": {
  "kernelspec": {
   "display_name": "Julia 1.0.3",
   "language": "julia",
   "name": "julia-1.0"
  },
  "language_info": {
   "file_extension": ".jl",
   "mimetype": "application/julia",
   "name": "julia",
   "version": "1.0.3"
  }
 },
 "nbformat": 4,
 "nbformat_minor": 2
}
